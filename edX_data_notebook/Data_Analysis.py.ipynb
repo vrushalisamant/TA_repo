{
 "cells": [
  {
   "cell_type": "code",
   "execution_count": null,
   "metadata": {
    "collapsed": true
   },
   "outputs": [],
   "source": [
    "import pickle\n",
    "import sys\n",
    "import pandas as pd"
   ]
  },
  {
   "cell_type": "code",
   "execution_count": null,
   "metadata": {
    "collapsed": false
   },
   "outputs": [],
   "source": [
    "data = pickle.load(open('student_answer.pkl','rb'))\n",
    "hint_data = pickle.load(open('student_hint.pkl','rb'))\n",
    "\n",
    "attempt = {}\n",
    "for line in data:\n",
    "    if line['timestamp'] == 'null':\n",
    "        continue\n",
    "    #if line['attempt'] == 'no attempt':\n",
    "    #    continue\n",
    "    answer = [line['timestamp'],line['attempt'],line['answer'], line['score']]\n",
    "    key = (line['set_id'],line['problem_id'],line['part_id'])\n",
    "    if key not in attempt:\n",
    "        attempt[key] = {}\n",
    "    student_key = (str(line['user_id']).replace('L',''),line['username'])\n",
    "    if student_key not in attempt[key]:\n",
    "        attempt[key][student_key] = []\n",
    "    attempt[key][student_key].append(answer)"
   ]
  },
  {
   "cell_type": "code",
   "execution_count": null,
   "metadata": {
    "collapsed": false
   },
   "outputs": [],
   "source": [
    "### Run this to see the number of wrong attempts for each week each problem and each part.\n",
    "\n",
    "### Type in integer for the week id\n",
    "week_id = '5'\n",
    "\n",
    "attempt_count_data = []\n",
    "for problem in attempt:\n",
    "    if problem[0] == week_id:\n",
    "        total_attempt_number = 0\n",
    "        for student in attempt[problem]:\n",
    "            for ans in attempt[problem][student]:\n",
    "                if ans[3] == '0':\n",
    "                    total_attempt_number += 1\n",
    "                elif ans[3] == '1' or ans[3] == '2':\n",
    "                    break\n",
    "        attempt_count_data.append([problem[0], problem[1], problem[2], str(total_attempt_number)])"
   ]
  },
  {
   "cell_type": "code",
   "execution_count": null,
   "metadata": {
    "collapsed": false
   },
   "outputs": [],
   "source": [
    "### Sort the count by attempts\n",
    "attempt_count_data = sorted(attempt_count_data, key=lambda x: (int(x[1]), int(x[2])))\n",
    "ind = [a[0] for a in attempt_count_data]\n",
    "ind2 = [a[1] for a in attempt_count_data]\n",
    "ind3 = [a[2] for a in attempt_count_data]\n",
    "d = [a[3] for a in attempt_count_data]\n",
    "col = ['Total Attempts']\n",
    "df = pd.DataFrame(d, index = [ind,ind2, ind3], columns = col)\n",
    "df.index.names = ['Week ID', 'Problem ID', 'Part ID']\n",
    "df"
   ]
  },
  {
   "cell_type": "code",
   "execution_count": null,
   "metadata": {
    "collapsed": false
   },
   "outputs": [],
   "source": [
    "### Sort the count by problem id and part id\n",
    "attempt_count_data = sorted(attempt_count_data, key=lambda x: int(x[3]), reverse = True)\n",
    "col = ['Week ID', 'Problem ID', 'Part ID', 'Total Attempts']\n",
    "pd.DataFrame(attempt_count_data, columns = col)"
   ]
  },
  {
   "cell_type": "code",
   "execution_count": null,
   "metadata": {
    "collapsed": true
   },
   "outputs": [],
   "source": [
    "## Yoav: Generate a single big dataframe for the given week. Generate the smaller reports by selecting from that df.\n",
    "\n",
    "### Select certain week_id, problem_id, and part_id as int to show below\n",
    "\n",
    "### Type in integer for the week id\n",
    "week_id = 5\n",
    "\n",
    "### If you want to see all problems of certain week, put problem_usr = 0\n",
    "problem_id = 4\n",
    "\n",
    "### If you want to see all parts of certain problem,  put part_usr = 0\n",
    "part_id = 1"
   ]
  },
  {
   "cell_type": "code",
   "execution_count": null,
   "metadata": {
    "collapsed": false
   },
   "outputs": [],
   "source": [
    "### Run this to output the student attempts and answers.\n",
    "attempt_data = []\n",
    "ind0 = []\n",
    "ind1 = []\n",
    "ind2 = []\n",
    "col = [\"Attempt\", \"Answer\", \"Correctness\"]\n",
    "for problem in attempt:\n",
    "    if (week_id != 0 and problem[0] != str(week_id)) or \\\n",
    "    (problem_id != 0 and problem[1] != str(problem_id)) or \\\n",
    "    (part_id != 0 and problem[2] != str(part_id)):\n",
    "        continue \n",
    "    print \"Data for Week {0}, Problem {1}, Part {2}.\".format(problem[0], problem[1], problem[2])\n",
    "    for student in sorted(attempt[problem],key=lambda x:int(x[0])):\n",
    "        previous = []\n",
    "        for ans in attempt[problem][student][:10]:\n",
    "            if ans[1] == 'null' or ans[1] == '' or ans[2] == 'null':\n",
    "                continue\n",
    "            if ans[1:] == previous:\n",
    "                continue\n",
    "            ind0.append(student[0])\n",
    "            ind1.append(student[1])\n",
    "            ind2.append(ans[0])\n",
    "            attempt_data.append(ans[1:])\n",
    "            previous = ans[1:]\n",
    "ans_df = pd.DataFrame(attempt_data, index = [ind0,ind1,ind2], columns = col)\n",
    "ans_df.index.names = ['ID', 'Name','TimeStamp']\n",
    "ans_df"
   ]
  },
  {
   "cell_type": "code",
   "execution_count": null,
   "metadata": {
    "collapsed": false
   },
   "outputs": [],
   "source": [
    "### Run this to see students' answers with hints.\n",
    "\n",
    "#combine two dic\n",
    "def gen_ans_df():\n",
    "    hint_attempt = {}\n",
    "    for problem in attempt:\n",
    "        hint_attempt[problem] = {}\n",
    "        for student in attempt[problem]:\n",
    "            if problem in hint_data and student in hint_data[problem]:\n",
    "                hint_attempt[problem][student] = attempt[problem][student][:]\n",
    "                for hint_content in hint_data[problem][student]:\n",
    "                    if hint_content[1] != \"no attempt\":\n",
    "                        hint_attempt[problem][student].append(hint_content)\n",
    "                hint_attempt[problem][student].sort()\n",
    "\n",
    "    hint_attempt_data = []\n",
    "    hint_ind0 = []\n",
    "    hint_ind1 = []\n",
    "    hint_ind2 = []\n",
    "    col = [\"Attempt\", \"Attempt/Hint\", \"Correctness\"]\n",
    "    for problem in hint_attempt:\n",
    "        if (week_id != 0 and problem[0] != str(week_id)) or \\\n",
    "        (problem_id != 0 and problem[1] != str(problem_id)) or \\\n",
    "        (part_id != 0 and problem[2] != str(part_id)):\n",
    "            continue \n",
    "        print \"Data for Week {0}, Problem {1}, Part {2}.\".format(problem[0], problem[1], problem[2])\n",
    "        for student in sorted(hint_attempt[problem], key=lambda x:int(x[0])):\n",
    "            previous = []\n",
    "            for ans in hint_attempt[problem][student]:\n",
    "                if ans[1] == 'null' or ans[1] == '' or ans[2] == 'null':\n",
    "                    continue\n",
    "                if ans[1:] == previous:\n",
    "                    continue\n",
    "                hint_ind0.append(student[0])\n",
    "                hint_ind1.append(student[1])\n",
    "                hint_ind2.append(ans[0])\n",
    "                hint_attempt_data.append(ans[1:])\n",
    "                previous = ans[1:]\n",
    "    ans_df = pd.DataFrame(hint_attempt_data, index = [hint_ind0, hint_ind1, hint_ind2], columns = col)\n",
    "    ans_df.index.names = ['ID', 'Name','TimeStamp']\n",
    "    return ans_df\n",
    "\n",
    "dsdf = gen_ans_df()"
   ]
  },
  {
   "cell_type": "code",
   "execution_count": null,
   "metadata": {
    "collapsed": false
   },
   "outputs": [],
   "source": [
    "problem=[4,8,3]\n",
    "ans_df=gen_ans_df()\n",
    "selector=[ a is None for a in list(ans_df['Correctness'])] \n",
    "ans_df[selector]"
   ]
  },
  {
   "cell_type": "code",
   "execution_count": null,
   "metadata": {
    "collapsed": false
   },
   "outputs": [],
   "source": [
    "print dsdf[:5]"
   ]
  },
  {
   "cell_type": "code",
   "execution_count": null,
   "metadata": {
    "collapsed": true
   },
   "outputs": [],
   "source": []
  }
 ],
 "metadata": {
  "anaconda-cloud": {},
  "kernelspec": {
   "display_name": "Python 2",
   "language": "python",
   "name": "python2"
  },
  "language_info": {
   "codemirror_mode": {
    "name": "ipython",
    "version": 2
   },
   "file_extension": ".py",
   "mimetype": "text/x-python",
   "name": "python",
   "nbconvert_exporter": "python",
   "pygments_lexer": "ipython2",
   "version": "2.7.9"
  }
 },
 "nbformat": 4,
 "nbformat_minor": 0
}
