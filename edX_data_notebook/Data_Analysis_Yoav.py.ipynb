{
 "cells": [
  {
   "cell_type": "code",
   "execution_count": 2,
   "metadata": {
    "collapsed": true
   },
   "outputs": [],
   "source": [
    "import pickle\n",
    "import sys"
   ]
  },
  {
   "cell_type": "code",
   "execution_count": 9,
   "metadata": {
    "collapsed": false,
    "scrolled": true
   },
   "outputs": [
    {
     "name": "stdout",
     "output_type": "stream",
     "text": [
      "/Users/yoavfreund/academic.papers/Courses/undergrad statistics/CSE103.2016/TA_repo/hint_database/2016data/pkl\n",
      "Week4_correct_timestamp.pkl Week4_data.pkl\r\n"
     ]
    }
   ],
   "source": [
    "%cd ../hint_database/2016data/pkl/"
   ]
  },
  {
   "cell_type": "code",
   "execution_count": 10,
   "metadata": {
    "collapsed": false
   },
   "outputs": [
    {
     "name": "stdout",
     "output_type": "stream",
     "text": [
      "total 2672\r\n",
      "-rw-r--r--  1 yoavfreund  staff  1176304 Oct 19 15:26 Week4_data.pkl\r\n",
      "-rw-r--r--  1 yoavfreund  staff   186892 Oct 19 15:26 Week4_correct_timestamp.pkl\r\n"
     ]
    }
   ],
   "source": [
    "!ls -lrt"
   ]
  },
  {
   "cell_type": "code",
   "execution_count": 27,
   "metadata": {
    "collapsed": false
   },
   "outputs": [],
   "source": [
    "data = pickle.load(open('Week4_data.pkl','rb'))"
   ]
  },
  {
   "cell_type": "code",
   "execution_count": 34,
   "metadata": {
    "collapsed": false
   },
   "outputs": [
    {
     "data": {
      "text/plain": [
       "[('1', '1'),\n",
       " ('1', '2'),\n",
       " ('1', '3'),\n",
       " ('2', '1'),\n",
       " ('2', '2'),\n",
       " ('2', '3'),\n",
       " ('2', '4'),\n",
       " ('2', '5'),\n",
       " ('2', '6'),\n",
       " ('2', '7'),\n",
       " ('3', '1'),\n",
       " ('3', '2'),\n",
       " ('3', '3'),\n",
       " ('3', '4'),\n",
       " ('4', '1'),\n",
       " ('4', '2'),\n",
       " ('4', '3'),\n",
       " ('5', '1'),\n",
       " ('5', '2'),\n",
       " ('5', '3'),\n",
       " ('5', '4'),\n",
       " ('6', '1'),\n",
       " ('6', '2'),\n",
       " ('7', '1'),\n",
       " ('7', '2'),\n",
       " ('7', '3'),\n",
       " ('8', '1'),\n",
       " ('8', '2'),\n",
       " ('8', '3'),\n",
       " ('9', '1'),\n",
       " ('9', '2'),\n",
       " ('9', '3'),\n",
       " ('9', '4'),\n",
       " ('9', '5'),\n",
       " ('9', '6')]"
      ]
     },
     "execution_count": 34,
     "metadata": {},
     "output_type": "execute_result"
    }
   ],
   "source": [
    "keys=data.keys()\n",
    "keys.sort()"
   ]
  },
  {
   "cell_type": "code",
   "execution_count": 40,
   "metadata": {
    "collapsed": false,
    "scrolled": true
   },
   "outputs": [
    {
     "name": "stdout",
     "output_type": "stream",
     "text": [
      "('1', '1') 385\n",
      "('1', '2') 366\n",
      "('1', '3') 377\n",
      "('2', '1') 282\n",
      "('2', '2') 226\n",
      "('2', '3') 222\n",
      "('2', '4') 221\n",
      "('2', '5') 218\n",
      "('2', '6') 203\n",
      "('2', '7') 194\n",
      "('3', '1') 223\n",
      "('3', '2') 195\n",
      "('3', '3') 168\n",
      "('3', '4') 169\n",
      "('4', '1') 142\n",
      "('4', '2') 122\n",
      "('4', '3') 119\n",
      "('5', '1') 362\n",
      "('5', '2') 386\n",
      "('5', '3') 234\n",
      "('5', '4') 200\n",
      "('6', '1') 146\n",
      "('6', '2') 125\n",
      "('7', '1') 180\n",
      "('7', '2') 155\n",
      "('7', '3') 124\n",
      "('8', '1') 173\n",
      "('8', '2') 150\n",
      "('8', '3') 117\n",
      "('9', '1') 143\n",
      "('9', '2') 128\n",
      "('9', '3') 102\n",
      "('9', '4') 87\n",
      "('9', '5') 84\n",
      "('9', '6') 78\n"
     ]
    }
   ],
   "source": [
    "import pandas as pd\n",
    "\n",
    "for key in keys:\n",
    "    prob=data[key]\n",
    "    print key,len(prob)"
   ]
  },
  {
   "cell_type": "code",
   "execution_count": 43,
   "metadata": {
    "collapsed": false
   },
   "outputs": [
    {
     "data": {
      "text/plain": [
       "Counter({'answer': 6806,\n",
       "         'attempt': 6806,\n",
       "         'part_id': 6806,\n",
       "         'problem_id': 6806,\n",
       "         'score': 6806,\n",
       "         'set_id': 6806,\n",
       "         'timestamp': 6806,\n",
       "         'user_id': 6806,\n",
       "         'var': 6806})"
      ]
     },
     "execution_count": 43,
     "metadata": {},
     "output_type": "execute_result"
    }
   ],
   "source": [
    "import pandas as pd\n",
    "from collections import Counter\n",
    "\n",
    "columns=Counter()\n",
    "for key in keys:\n",
    "    prob=data[key]\n",
    "    for Dict in prob:\n",
    "        for c in Dict.keys():\n",
    "            columns[c]+=1\n",
    "columns"
   ]
  },
  {
   "cell_type": "code",
   "execution_count": 44,
   "metadata": {
    "collapsed": false
   },
   "outputs": [
    {
     "data": {
      "text/plain": [
       "{'answer': [],\n",
       " 'attempt': [],\n",
       " 'part_id': [],\n",
       " 'problem_id': [],\n",
       " 'score': [],\n",
       " 'set_id': [],\n",
       " 'timestamp': [],\n",
       " 'user_id': [],\n",
       " 'var': []}"
      ]
     },
     "execution_count": 44,
     "metadata": {},
     "output_type": "execute_result"
    }
   ],
   "source": [
    "cols={k:[] for k in columns.keys()}\n",
    "cols"
   ]
  },
  {
   "cell_type": "code",
   "execution_count": null,
   "metadata": {
    "collapsed": true
   },
   "outputs": [],
   "source": []
  }
 ],
 "metadata": {
  "anaconda-cloud": {},
  "kernelspec": {
   "display_name": "Python 2",
   "language": "python",
   "name": "python2"
  },
  "language_info": {
   "codemirror_mode": {
    "name": "ipython",
    "version": 2
   },
   "file_extension": ".py",
   "mimetype": "text/x-python",
   "name": "python",
   "nbconvert_exporter": "python",
   "pygments_lexer": "ipython2",
   "version": "2.7.12"
  }
 },
 "nbformat": 4,
 "nbformat_minor": 0
}
